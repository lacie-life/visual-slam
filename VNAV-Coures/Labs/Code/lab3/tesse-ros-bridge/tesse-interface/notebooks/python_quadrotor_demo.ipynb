{
 "cells": [
  {
   "cell_type": "markdown",
   "metadata": {},
   "source": [
    "### Disclaimer\n",
    "\n",
    "Distribution authorized to U.S. Government agencies and their contractors. Other requests for this document shall be referred to the MIT Lincoln Laboratory Technology Office.\n",
    "\n",
    "This material is based upon work supported by the Under Secretary of Defense for Research and Engineering under Air Force Contract No. FA8702-15-D-0001. Any opinions, findings, conclusions or recommendations expressed in this material are those of the author(s) and do not necessarily reflect the views of the Under Secretary of Defense for Research and Engineering.\n",
    "\n",
    "© 2019 Massachusetts Institute of Technology.\n",
    "\n",
    "The software/firmware is provided to you on an As-Is basis\n",
    "\n",
    "Delivered to the U.S. Government with Unlimited Rights, as defined in DFARS Part 252.227-7013 or 7014 (Feb 2014). Notwithstanding any copyright notice, U.S. Government rights in this work are defined by DFARS 252.227-7013 or DFARS 252.227-7014 as detailed above. Use of this work other than as specifically authorized by the U.S. Government may violate any copyrights that exist in this work.\n"
   ]
  },
  {
   "cell_type": "markdown",
   "metadata": {},
   "source": [
    "# Quadrotor Demostration\n",
    "This notebook introduces the Python interface for controlling a quadrotor agent in TESSE simulation. This is implemented for VNAV 2020 Fall class."
   ]
  },
  {
   "cell_type": "code",
   "execution_count": null,
   "metadata": {
    "collapsed": true
   },
   "outputs": [],
   "source": [
    "# load packages\n",
    "from tesse.env import Env\n",
    "from tesse.msgs import *\n",
    "\n",
    "import time\n",
    "import matplotlib.pyplot as plt\n",
    "import defusedxml.ElementTree as ET\n",
    "import numpy as np"
   ]
  },
  {
   "cell_type": "code",
   "execution_count": null,
   "metadata": {
    "collapsed": true
   },
   "outputs": [],
   "source": [
    "# initialize connections\n",
    "env = Env()"
   ]
  },
  {
   "cell_type": "code",
   "execution_count": null,
   "metadata": {
    "collapsed": false
   },
   "outputs": [],
   "source": [
    "# reset quadrotor to origin\n",
    "# note: Unity uses left-handed frame with y axis pointing up\n",
    "def reset_to_origin():\n",
    "    env.send(Reposition(0, 1, 0, 0, 0, 0, 0))\n",
    "    \n",
    "reset_to_origin()"
   ]
  },
  {
   "cell_type": "code",
   "execution_count": null,
   "metadata": {
    "collapsed": false
   },
   "outputs": [],
   "source": [
    "# Quadrotor test 1: control individual props by setting each one of them to a positive value \n",
    "# for a short period of time before resetting\n",
    "def turn_prop_then_stop(idx):\n",
    "    speeds = 4*[0]\n",
    "    speeds[idx] = 80\n",
    "    env.send(PropSpeeds(speeds[0], speeds[1], speeds[2], speeds[3]))\n",
    "    time.sleep(1)\n",
    "    env.send(PropSpeeds(0,0,0,0))\n",
    "    time.sleep(1)\n",
    "    s\n",
    "turn_prop_then_stop(0)\n",
    "reset_to_origin()\n",
    "time.sleep(3)\n",
    "\n",
    "turn_prop_then_stop(1)\n",
    "reset_to_origin()\n",
    "time.sleep(3)\n",
    "\n",
    "turn_prop_then_stop(2)\n",
    "reset_to_origin()\n",
    "time.sleep(3)\n",
    "\n",
    "turn_prop_then_stop(3)\n",
    "reset_to_origin()\n",
    "time.sleep(3)\n"
   ]
  },
  {
   "cell_type": "code",
   "execution_count": null,
   "metadata": {
    "collapsed": true
   },
   "outputs": [],
   "source": [
    "# Quadrotor test 2: full throttle up\n",
    "def full_throttle_up(speed):\n",
    "    env.send(PropSpeeds(speed, speed, speed, speed))\n",
    "    time.sleep(3)\n",
    "    env.send(PropSpeeds(0,0,0,0))\n",
    "    \n",
    "full_throttle_up(150)\n",
    "time.sleep(3)"
   ]
  },
  {
   "cell_type": "code",
   "execution_count": null,
   "metadata": {
    "collapsed": false
   },
   "outputs": [],
   "source": [
    "# Quadrotor test 3: IMU (metadata while flying)\n",
    "# 10 seconds timeout\n",
    "timeout = time.time() + 2\n",
    "speed = 70\n",
    "time_data = []\n",
    "x_data = []\n",
    "y_data = []\n",
    "z_data = []\n",
    "\n",
    "# Fly up\n",
    "while True:\n",
    "    if time.time() > timeout:\n",
    "        break\n",
    "    env.send(PropSpeeds(speed, speed, speed, speed))\n",
    "    time.sleep(0.005)\n",
    "    response = env.request(MetadataRequest())\n",
    "    if response is not None:\n",
    "        tree = ET.fromstring(response.metadata)\n",
    "        x_data.append(float(tree.find('position').attrib['x']))\n",
    "        y_data.append(float(tree.find('position').attrib['y']))\n",
    "        z_data.append(float(tree.find('position').attrib['z']))\n",
    "        time_data.append(float(tree.find('time').text))\n",
    "        \n",
    "# Stop all props\n",
    "env.send(PropSpeeds(0, 0, 0, 0))\n",
    "\n",
    "timeout = time.time() + 6\n",
    "# Record data while falling down\n",
    "while True:\n",
    "    if time.time() > timeout:\n",
    "        break\n",
    "    time.sleep(0.005)\n",
    "    response = env.request(MetadataRequest())\n",
    "    if response is not None:\n",
    "        tree = ET.fromstring(response.metadata)\n",
    "        x_data.append(float(tree.find('position').attrib['x']))\n",
    "        y_data.append(float(tree.find('position').attrib['y']))\n",
    "        z_data.append(float(tree.find('position').attrib['z']))\n",
    "        time_data.append(float(tree.find('time').text))\n",
    "        \n",
    "fig, (ax1, ax2, ax3) = plt.subplots(3, 1, sharex=True)\n",
    "\n",
    "ax1.plot(time_data, x_data)\n",
    "ax1.set_ylabel(\"x (m)\")\n",
    "ax1.set_title('Position Data with Time')\n",
    "\n",
    "ax2.plot(time_data, y_data)\n",
    "ax2.set_ylabel(\"y (m)\")\n",
    "\n",
    "ax3.plot(time_data, z_data)\n",
    "ax3.set_xlabel(\"Time (s)\")\n",
    "ax3.set_ylabel(\"z (m)\")\n"
   ]
  }
 ],
 "metadata": {
  "kernelspec": {
   "display_name": "Python 2",
   "language": "python",
   "name": "python2"
  },
  "language_info": {
   "codemirror_mode": {
    "name": "ipython",
    "version": 2
   },
   "file_extension": ".py",
   "mimetype": "text/x-python",
   "name": "python",
   "nbconvert_exporter": "python",
   "pygments_lexer": "ipython2",
   "version": "2.7.18"
  }
 },
 "nbformat": 4,
 "nbformat_minor": 2
}
