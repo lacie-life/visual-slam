{
 "cells": [
  {
   "cell_type": "markdown",
   "metadata": {},
   "source": [
    "# Example Notebook"
   ]
  },
  {
   "cell_type": "code",
   "execution_count": null,
   "metadata": {},
   "outputs": [],
   "source": [
    "import math\n",
    "import unittest\n",
    "\n",
    "# import gtsam\n",
    "import gtsam\n",
    "from gtsam.utils.test_case import GtsamTestCase\n",
    "\n",
    "# import local package\n",
    "import example.module as mod"
   ]
  },
  {
   "cell_type": "code",
   "execution_count": null,
   "metadata": {},
   "outputs": [],
   "source": [
    "class TestGTSamFunctionality(GtsamTestCase):\n",
    "    \"\"\"testing GTSAM functionality.\"\"\"\n",
    "\n",
    "    def test_range(self):\n",
    "        \"\"\"Test range method.\"\"\"\n",
    "        l2 = gtsam.Point3(1, 1, 0)\n",
    "        x1 = gtsam.Pose3()\n",
    "\n",
    "        # establish range is indeed sqrt2\n",
    "        self.assertEqual(math.sqrt(2.0), x1.range(point=l2))\n",
    "\n",
    "class TestLocalModule(GtsamTestCase):\n",
    "    \"\"\"testing GTSAM functionality through local module.\"\"\"\n",
    "    \n",
    "    def test_meaning_of_everything(self):\n",
    "        \"\"\"Test simple function in module.\"\"\"\n",
    "        self.assertEqual(mod.meaning_of_everything(), 42)\n",
    "\n",
    "    def test_create_special_2d_pose(self):\n",
    "        \"\"\"Test GTSAM function in module.\"\"\"\n",
    "        actual = mod.create_special_2d_pose()\n",
    "        self.assertIsInstance(actual, gtsam.Pose2)\n",
    "        self.gtsamAssertEquals(actual, gtsam.Pose2(1,2,3), 1e-7)\n",
    "\n",
    "if __name__ == '__main__':\n",
    "    unittest.main(argv=['first-arg-is-ignored'], exit=False)"
   ]
  },
  {
   "cell_type": "code",
   "execution_count": null,
   "metadata": {},
   "outputs": [],
   "source": []
  }
 ],
 "metadata": {
  "kernelspec": {
   "display_name": "Python 3",
   "language": "python",
   "name": "python3"
  },
  "language_info": {
   "codemirror_mode": {
    "name": "ipython",
    "version": 3
   },
   "file_extension": ".py",
   "mimetype": "text/x-python",
   "name": "python",
   "nbconvert_exporter": "python",
   "pygments_lexer": "ipython3",
   "version": "3.7.3"
  }
 },
 "nbformat": 4,
 "nbformat_minor": 2
}
