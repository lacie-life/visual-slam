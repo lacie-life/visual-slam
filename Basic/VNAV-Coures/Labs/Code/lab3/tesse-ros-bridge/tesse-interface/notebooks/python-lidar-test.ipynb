{
 "cells": [
  {
   "cell_type": "markdown",
   "metadata": {},
   "source": [
    "# LiDAR Development Testing Notebook\n",
    "\n",
    "This notebook serves as a testing tool for dealing with the LiDAR sensor object in tesse. Without Unity unit tests, it is hard to do any kind of testing that isn't end-to-end."
   ]
  },
  {
   "cell_type": "code",
   "execution_count": null,
   "metadata": {},
   "outputs": [],
   "source": [
    "from tesse.env import Env\n",
    "from tesse.msgs import *\n",
    "\n",
    "import time\n",
    "import matplotlib.pyplot as plt\n",
    "from IPython.display import clear_output\n",
    "import defusedxml.ElementTree as ET\n",
    "import numpy as np"
   ]
  },
  {
   "cell_type": "code",
   "execution_count": null,
   "metadata": {},
   "outputs": [],
   "source": [
    "env = Env()"
   ]
  },
  {
   "cell_type": "markdown",
   "metadata": {},
   "source": [
    "\n",
    "### Get LiDAR Params"
   ]
  },
  {
   "cell_type": "code",
   "execution_count": null,
   "metadata": {},
   "outputs": [],
   "source": [
    "response = env.request(LidarInformationRequest())\n",
    "\n",
    "if response:\n",
    "    print(response)\n",
    "    print(response.metadata)"
   ]
  },
  {
   "cell_type": "markdown",
   "metadata": {},
   "source": [
    "### Set LiDAR Params\n"
   ]
  },
  {
   "cell_type": "code",
   "execution_count": null,
   "metadata": {},
   "outputs": [],
   "source": [
    "response = env.request(SetLidarParametersRequest(scanner=Lidar.ALL,\n",
    "                                                 min_angle=-3.14,\n",
    "                                                 max_angle=3.14,\n",
    "                                                 max_range=50,\n",
    "                                                 ray_count=1000))\n",
    "\n",
    "if response:\n",
    "    print(response)\n",
    "    print(response.metadata)\n",
    "    \n",
    "_ = env.request(SetLidarParametersRequest(scanner=Lidar.UNDER,\n",
    "                                          min_angle=3.14,\n",
    "                                          max_angle=6.28,\n",
    "                                          max_range=50,\n",
    "                                          ray_count=1000))"
   ]
  },
  {
   "cell_type": "markdown",
   "metadata": {},
   "source": [
    "### Set LiDAR Position and Orientation"
   ]
  },
  {
   "cell_type": "code",
   "execution_count": null,
   "metadata": {},
   "outputs": [],
   "source": [
    "response = env.request(SetLidarPositionRequest(Lidar.ALL,-0.02,1.02,1.7))\n",
    "\n",
    "if response:\n",
    "    print(response)\n",
    "    print(response.metadata)\n",
    "    \n",
    "response = env.request(SetLidarOrientationRequest(Lidar.ALL,0,0,0.0001,1))\n",
    "\n",
    "if response:\n",
    "    print(response)\n",
    "    print(response.metadata)"
   ]
  },
  {
   "cell_type": "markdown",
   "metadata": {},
   "source": [
    "### Get LiDAR Data and Plot"
   ]
  },
  {
   "cell_type": "code",
   "execution_count": null,
   "metadata": {
    "scrolled": false
   },
   "outputs": [],
   "source": [
    "def plot_lidar(ax, ranges, min_angle, max_angle):\n",
    "    increment = (np.abs(min_angle) + np.abs(max_angle)) / len(ranges)\n",
    "    angles = np.array([min_angle + i*increment for i in range(len(ranges))])\n",
    "    \n",
    "    ax.scatter(angles, ranges, s=1)\n",
    "\n",
    "min_angle = 0\n",
    "max_angle = np.pi\n",
    "_ = env.request(SetLidarParametersRequest(scanner=Lidar.ALL,\n",
    "                                                 min_angle=min_angle,\n",
    "                                                 max_angle=max_angle,\n",
    "                                                 max_range=50,\n",
    "                                                 ray_count=1000))\n",
    "\n",
    "plt.ion()\n",
    "plt.show()\n",
    "\n",
    "while True:\n",
    "    response = env.request(LidarDataRequest())\n",
    "    if response:\n",
    "        clear_output(wait=True)\n",
    "        ax = plt.subplot(111,polar=True)\n",
    "        plot_lidar(ax, response.scans[0], min_angle, max_angle)\n",
    "        plot_lidar(ax, response.scans[1], -np.pi, 0)\n",
    "        plot_lidar(ax, response.scans[2], min_angle, max_angle)\n",
    "    else:\n",
    "        print('no response')\n",
    "    \n",
    "    plt.show()"
   ]
  },
  {
   "cell_type": "code",
   "execution_count": null,
   "metadata": {},
   "outputs": [],
   "source": []
  }
 ],
 "metadata": {
  "kernelspec": {
   "display_name": "Python 2",
   "language": "python",
   "name": "python2"
  },
  "language_info": {
   "codemirror_mode": {
    "name": "ipython",
    "version": 2
   },
   "file_extension": ".py",
   "mimetype": "text/x-python",
   "name": "python",
   "nbconvert_exporter": "python",
   "pygments_lexer": "ipython2",
   "version": "2.7.17"
  }
 },
 "nbformat": 4,
 "nbformat_minor": 2
}
